{
 "cells": [
  {
   "cell_type": "code",
   "execution_count": 14,
   "id": "ad692569-f249-4c20-b245-04f244d607a8",
   "metadata": {},
   "outputs": [
    {
     "name": "stdout",
     "output_type": "stream",
     "text": [
      "File content after editing :\n",
      "Read the content .\n",
      "\n",
      "File content after appending:\n",
      "Read the content .\n",
      "This is the appended line.\n",
      "\n"
     ]
    }
   ],
   "source": [
    "from contextlib import contextmanager\n",
    "\n",
    "@contextmanager\n",
    "def genericFileFunction(filename, method):\n",
    "    file = open(filename, method)\n",
    "    yield file\n",
    "    file.close()\n",
    "\n",
    "if __name__ == '__main__':\n",
    "    # Write to the file\n",
    "    with genericFileFunction('example.txt', 'w') as file:\n",
    "        file.write(\"Read the content .\\n\")\n",
    "\n",
    "    # Read the file \n",
    "    with genericFileFunction('example.txt', 'r') as file:\n",
    "        print(\"File content after editing :\")\n",
    "        print(file.read())\n",
    "\n",
    "    # Make changes in the file by appending \n",
    "    with genericFileFunction('example.txt', 'a') as file:\n",
    "        file.write(\"This is the appended line.\\n\")\n",
    "\n",
    "    # Again read the same file to display \n",
    "    with genericFileFunction('example.txt', 'r') as file:\n",
    "        print(\"File content after appending:\")\n",
    "        print(file.read())\n"
   ]
  },
  {
   "cell_type": "code",
   "execution_count": null,
   "id": "18ba517d-0d30-4181-aebe-4d652cd50a15",
   "metadata": {},
   "outputs": [],
   "source": []
  }
 ],
 "metadata": {
  "kernelspec": {
   "display_name": "Python [conda env:base] *",
   "language": "python",
   "name": "conda-base-py"
  },
  "language_info": {
   "codemirror_mode": {
    "name": "ipython",
    "version": 3
   },
   "file_extension": ".py",
   "mimetype": "text/x-python",
   "name": "python",
   "nbconvert_exporter": "python",
   "pygments_lexer": "ipython3",
   "version": "3.12.7"
  }
 },
 "nbformat": 4,
 "nbformat_minor": 5
}
