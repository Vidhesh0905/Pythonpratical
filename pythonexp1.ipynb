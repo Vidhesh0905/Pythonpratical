{
 "cells": [
  {
   "cell_type": "markdown",
   "id": "c481eb24-b9a0-4c5b-a45a-9c4a7a44d33b",
   "metadata": {},
   "source": [
    "Strings in Python"
   ]
  },
  {
   "cell_type": "code",
   "execution_count": 1,
   "id": "e0798057-393a-4d6a-951a-96314a1babf9",
   "metadata": {},
   "outputs": [
    {
     "name": "stdout",
     "output_type": "stream",
     "text": [
      "This is a string\n",
      "This is a string\n",
      "This is a string\n"
     ]
    }
   ],
   "source": [
    "a = 'This is a string'\n",
    "print (a)\n",
    "b = \"This is a string\"\n",
    "print (b)\n",
    "c= '''This is a string'''\n",
    "print (c)"
   ]
  },
  {
   "cell_type": "markdown",
   "id": "cc687475-5cd7-4b1b-b68b-483b026c4a1b",
   "metadata": {},
   "source": [
    "Lists in Python"
   ]
  },
  {
   "cell_type": "code",
   "execution_count": 7,
   "id": "db7be67f-940b-491f-8270-89ebc5320989",
   "metadata": {},
   "outputs": [
    {
     "name": "stdout",
     "output_type": "stream",
     "text": [
      "[1, 'a', 'string', 3]\n",
      "[1, 'a', 'string', 3, 6]\n",
      "[1, 'a', 'string', 3]\n",
      "a\n"
     ]
    }
   ],
   "source": [
    "L = [1, \"a\" , \"string\" , 1+2]\n",
    "print (L)\n",
    "#Adding an element in the list\n",
    "L.append(6) \n",
    "print (L)\n",
    "#Deleting last element from a list\n",
    "L.pop()\n",
    "print (L)\n",
    "#Displaying Second element of the list\n",
    "print (L[1]) \n"
   ]
  },
  {
   "cell_type": "raw",
   "id": "bcc05ef8-7f0d-4de2-b838-d6a037a223fe",
   "metadata": {},
   "source": [
    "Deletion of Items "
   ]
  },
  {
   "cell_type": "code",
   "execution_count": 2,
   "id": "582b9e95-e021-4b32-b4fa-d74980498c57",
   "metadata": {},
   "outputs": [
    {
     "name": "stdout",
     "output_type": "stream",
     "text": [
      "{'a': 1, 'c': 3}\n",
      "2\n"
     ]
    }
   ],
   "source": [
    "my_dict = {'a': 1, 'b': 2, 'c': 3}\n",
    "\n",
    "# Deleting an item with the key 'b' and returning its value\n",
    "removed_value = my_dict.pop('b')\n",
    "\n",
    "print(my_dict)       # Output: {'a': 1, 'c': 3}\n",
    "print(removed_value) # Output: 2\n"
   ]
  },
  {
   "cell_type": "markdown",
   "id": "2338581e-c8db-442b-ab95-9ccf1f595ca3",
   "metadata": {},
   "source": [
    "Tuples in Python"
   ]
  },
  {
   "cell_type": "code",
   "execution_count": 3,
   "id": "e6a92226-2e29-4b7d-b331-1a88d5ddf503",
   "metadata": {},
   "outputs": [
    {
     "name": "stdout",
     "output_type": "stream",
     "text": [
      "(1, 'a', 'string', 3)\n",
      "a\n"
     ]
    }
   ],
   "source": [
    "tup = (1, \"a\", \"string\", 1+2)\n",
    "print(tup)\n",
    "print(tup[1])"
   ]
  },
  {
   "cell_type": "markdown",
   "id": "989e27a8-e853-42bd-b2e8-f071ab366320",
   "metadata": {},
   "source": [
    "Dictionaries in Python"
   ]
  },
  {
   "cell_type": "code",
   "execution_count": 4,
   "id": "8b1e25cc-9b87-4590-820b-67bce2aff090",
   "metadata": {},
   "outputs": [
    {
     "name": "stdout",
     "output_type": "stream",
     "text": [
      "{1: 'Lorem', 2: 'Ipsum', 3: 'Dolerum'}\n"
     ]
    }
   ],
   "source": [
    "d = {1: 'Lorem', 2: 'Ipsum', 3: 'Dolerum'}\n",
    "print(d)"
   ]
  },
  {
   "cell_type": "markdown",
   "id": "dd8cfb8c-73c7-4b05-9af4-f2af97407a45",
   "metadata": {},
   "source": [
    "Create a Dictionary"
   ]
  },
  {
   "cell_type": "markdown",
   "id": "95e5407c-89f0-4984-a73c-57e5b3dd062b",
   "metadata": {},
   "source": [
    "# create dictionary using { }\n",
    "d1 = {1: 'Game', 2: 'of', 3: 'Thrones'}\n",
    "print(d1)\n",
    "\n",
    "# create dictionary using dict() constructor\n",
    "d2 = dict(a = \"House\", b = \"of\", c = \"Cards\")\n",
    "print(d2)"
   ]
  },
  {
   "cell_type": "markdown",
   "id": "968d5f17-8812-4c13-9a04-cd1db749c481",
   "metadata": {},
   "source": [
    "Accessing Dictionary Items"
   ]
  },
  {
   "cell_type": "code",
   "execution_count": 5,
   "id": "8ec1e58c-fb88-4eb9-a88b-f054f050a224",
   "metadata": {},
   "outputs": [
    {
     "name": "stdout",
     "output_type": "stream",
     "text": [
      "Alice\n",
      "Alice\n"
     ]
    }
   ],
   "source": [
    "d = { \"name\": \"Alice\", 1: \"Python\", (1, 2): [1,2,4] }\n",
    "\n",
    "# Access using key\n",
    "print(d[\"name\"])\n",
    "\n",
    "# Access using get()\n",
    "print(d.get(\"name\"))"
   ]
  },
  {
   "cell_type": "markdown",
   "id": "b55c3b9f-fdb0-4b1b-8fd9-7e5add93586f",
   "metadata": {},
   "source": [
    "Adding and Updating Dictionary Items"
   ]
  },
  {
   "cell_type": "code",
   "execution_count": 6,
   "id": "1088f0cd-18b8-4949-a34b-e7b76a892421",
   "metadata": {},
   "outputs": [
    {
     "name": "stdout",
     "output_type": "stream",
     "text": [
      "{1: 'Python dict', 2: 'of', 3: 'Thrones', 'age': 22}\n"
     ]
    }
   ],
   "source": [
    "d = {1: 'Game', 2: 'of', 3: 'Thrones'}\n",
    "\n",
    "# Adding a new key-value pair\n",
    "d[\"age\"] = 22\n",
    "\n",
    "# Updating an existing value\n",
    "d[1] = \"Python dict\"\n",
    "\n",
    "print(d)"
   ]
  },
  {
   "cell_type": "code",
   "execution_count": null,
   "id": "591d6b2b-5f04-4422-b8d2-326c202796e5",
   "metadata": {},
   "outputs": [],
   "source": []
  }
 ],
 "metadata": {
  "kernelspec": {
   "display_name": "Python 3 (ipykernel)",
   "language": "python",
   "name": "python3"
  },
  "language_info": {
   "codemirror_mode": {
    "name": "ipython",
    "version": 3
   },
   "file_extension": ".py",
   "mimetype": "text/x-python",
   "name": "python",
   "nbconvert_exporter": "python",
   "pygments_lexer": "ipython3",
   "version": "3.13.0"
  }
 },
 "nbformat": 4,
 "nbformat_minor": 5
}
