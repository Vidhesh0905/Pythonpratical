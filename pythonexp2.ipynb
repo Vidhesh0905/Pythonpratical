{
 "cells": [
  {
   "cell_type": "code",
   "execution_count": 18,
   "id": "1f395301-edb0-4b7e-9f91-927dd8c331bc",
   "metadata": {},
   "outputs": [
    {
     "name": "stdout",
     "output_type": "stream",
     "text": [
      "Fullstack\n",
      "Frontend Developer\n",
      "Backend Developer\n",
      "Not A Developer\n"
     ]
    }
   ],
   "source": [
    "class Employee:\n",
    "    def __init__ (\n",
    "            self,\n",
    "            designation : str = 'Developer',\n",
    "            frontend : bool = False,\n",
    "            backend : bool = False\n",
    "    ):\n",
    "        self.designation = designation\n",
    "        self.frontend = frontend\n",
    "        self.backend = backend\n",
    "\n",
    "    def __repr__ (self):\n",
    "        return '{}'.format (self.designation, self.frontend ,self.backend)\n",
    "    \n",
    "    ### Write the your method over here.\n",
    "    def verifier (self):\n",
    "        if self.frontend and self.backend:\n",
    "            return 'Fullstack'\n",
    "        elif self.frontend:\n",
    "                return 'Frontend Developer'\n",
    "        elif self.backend:\n",
    "                    return 'Backend Developer'\n",
    "        else:\n",
    "                    return 'Not A Developer'\n",
    "\n",
    "if __name__ == '__main__':\n",
    "    firstEmployee = Employee (frontend=True,backend=True)\n",
    "    print(firstEmployee.verifier())\n",
    "   \n",
    "    secondEmployee=Employee(frontend=True)\n",
    "    print(secondEmployee.verifier())\n",
    "   \n",
    "    thirdEmployee=Employee(backend=True)\n",
    "    print(thirdEmployee.verifier())\n",
    "    \n",
    "    fourthEmployee=Employee()\n",
    "    print(fourthEmployee.verifier())"
   ]
  }
 ],
 "metadata": {
  "kernelspec": {
   "display_name": "Python [conda env:base] *",
   "language": "python",
   "name": "conda-base-py"
  },
  "language_info": {
   "codemirror_mode": {
    "name": "ipython",
    "version": 3
   },
   "file_extension": ".py",
   "mimetype": "text/x-python",
   "name": "python",
   "nbconvert_exporter": "python",
   "pygments_lexer": "ipython3",
   "version": "3.12.7"
  }
 },
 "nbformat": 4,
 "nbformat_minor": 5
}
